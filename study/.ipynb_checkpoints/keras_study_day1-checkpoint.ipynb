{
 "cells": [
  {
   "cell_type": "markdown",
   "metadata": {},
   "source": [
    "딥러닝은 머신러닝의 알고리즘 중 하나다.\n",
    "\n",
    "머신러닝에는 다양한 알고리즘들이 있다.\n",
    "\n",
    "KNN, SVM, Random Forest 등등 정말 다양한 알고리즘들이 있는데 그 중 요즘 핫한 알고리즘이 딥러닝이다.\n",
    "\n",
    "딥러닝은 여러 라이브러리가 있다. 요즘 뜨는 pytorch나 예전부터 강력한 파워를 가지고 있는 tensorflow, keras, theano 등이 있다.\n",
    "\n",
    "그 중에서 keras를 사용한다. keras는 backend로 tensorflow, theano를 사용할 수 있는데\n",
    "\n",
    "tensorflow보다 간편하게 쓸 수 있어서 딥러닝에 입문하는데 이만한게 없다.\n",
    "\n",
    "\n",
    "\n",
    "머신러닝은 곧 ** 얼마나 정확한 예측선을 긋느냐 ** 가 관건이다. 예를 들어 폐암 생존을 판단한다고 가정하면\n",
    "\n",
    "폐암에 걸린 사람들의 데이터를 쭉 나열하고 이 사람이 사망했는지, 사망을 안했는지를 나누는거다.\n",
    "\n",
    "이 경계를 잘 긋는 것이 핵심. 이를 위해서 서포트 벡터 머신(SVM), 랜덤 포레스트(Randomforest) 등이 나온것\n",
    "\n",
    "그리고 그 중 딥러닝도 포함되어 있는 것\n",
    "\n",
    "그럼 뭐 본론으로 들어가기 전에 폐암환자들의 수술 후 생존율을 예측해보자.\n"
   ]
  },
  {
   "cell_type": "code",
   "execution_count": 1,
   "metadata": {},
   "outputs": [
    {
     "name": "stderr",
     "output_type": "stream",
     "text": [
      "C:\\Users\\leesoojin\\Anaconda3\\lib\\site-packages\\h5py\\__init__.py:36: FutureWarning: Conversion of the second argument of issubdtype from `float` to `np.floating` is deprecated. In future, it will be treated as `np.float64 == np.dtype(float).type`.\n",
      "  from ._conv import register_converters as _register_converters\n",
      "Using TensorFlow backend.\n"
     ]
    }
   ],
   "source": [
    "from keras.models import Sequential\n",
    "from keras.layers import Dense\n",
    "from sklearn.model_selection import train_test_split\n",
    "import numpy as np\n",
    "import pandas as pd\n",
    "import matplotlib.pyplot as plt\n",
    "import matplotlib as mpl\n",
    "import seaborn as sns"
   ]
  },
  {
   "cell_type": "markdown",
   "metadata": {},
   "source": [
    "import numpy as np\n",
    "\n",
    "import pandas as pd\n",
    "\n",
    "import matplotlib.pyplot as plt\n",
    "\n",
    "import matplotlib as mpl\n",
    "\n",
    "import seaborn as sns\n",
    "\n",
    "이 부분은 사용하지 않더라고 꼭 임포트 해주자\n",
    "\n",
    "데이터 사이언스쪽에서 파이썬의 이 라이브러리들은 자주 사용되기 때문에 습관을 들어주시는게 좋다.\n",
    "\n",
    "그리고 gpu와 관련한 셋팅을 합니다."
   ]
  },
  {
   "cell_type": "code",
   "execution_count": 2,
   "metadata": {},
   "outputs": [],
   "source": [
    "import keras.backend.tensorflow_backend as K\n",
    "import tensorflow as tf\n",
    "config = tf.ConfigProto()\n",
    "config.gpu_options.allow_growth = True\n",
    "session = tf.Session(config=config)"
   ]
  },
  {
   "cell_type": "code",
   "execution_count": 3,
   "metadata": {},
   "outputs": [
    {
     "name": "stdout",
     "output_type": "stream",
     "text": [
      "(470, 18)\n"
     ]
    }
   ],
   "source": [
    "data = pd.read_csv('../dataset/ThoraricSurgery.csv', header=None)\n",
    "print(data.shape)"
   ]
  },
  {
   "cell_type": "markdown",
   "metadata": {},
   "source": [
    "469개의 row와 18개의 속성으로 되어 있다."
   ]
  },
  {
   "cell_type": "code",
   "execution_count": 4,
   "metadata": {},
   "outputs": [
    {
     "name": "stdout",
     "output_type": "stream",
     "text": [
      "    0   1     2     3   4   5   6   7   8   9   10  11  12  13  14  15  16  17\n",
      "0  293   1  3.80  2.80   0   0   0   0   0   0  12   0   0   0   1   0  62   0\n",
      "1    1   2  2.88  2.16   1   0   0   0   1   1  14   0   0   0   1   0  60   0\n",
      "2    8   2  3.19  2.50   1   0   0   0   1   0  11   0   0   1   1   0  66   1\n",
      "3   14   2  3.98  3.06   2   0   0   0   1   1  14   0   0   0   1   0  80   1\n",
      "4   17   2  2.21  1.88   0   0   1   0   0   0  12   0   0   0   1   0  56   0\n"
     ]
    }
   ],
   "source": [
    "print(data.head())"
   ]
  },
  {
   "cell_type": "code",
   "execution_count": 5,
   "metadata": {},
   "outputs": [
    {
     "name": "stdout",
     "output_type": "stream",
     "text": [
      "[[293.     1.     3.8    2.8    0.     0.     0.     0.     0.     0.\n",
      "   12.     0.     0.     0.     1.     0.    62.  ]\n",
      " [  1.     2.     2.88   2.16   1.     0.     0.     0.     1.     1.\n",
      "   14.     0.     0.     0.     1.     0.    60.  ]\n",
      " [  8.     2.     3.19   2.5    1.     0.     0.     0.     1.     0.\n",
      "   11.     0.     0.     1.     1.     0.    66.  ]\n",
      " [ 14.     2.     3.98   3.06   2.     0.     0.     0.     1.     1.\n",
      "   14.     0.     0.     0.     1.     0.    80.  ]\n",
      " [ 17.     2.     2.21   1.88   0.     0.     1.     0.     0.     0.\n",
      "   12.     0.     0.     0.     1.     0.    56.  ]]\n",
      "[0 0 1 1 0]\n"
     ]
    }
   ],
   "source": [
    "X = data.iloc[:, :17].values\n",
    "y = data.iloc[:,17].values\n",
    "\n",
    "print(X[:5])\n",
    "print(y[:5])"
   ]
  },
  {
   "cell_type": "code",
   "execution_count": 6,
   "metadata": {},
   "outputs": [
    {
     "name": "stdout",
     "output_type": "stream",
     "text": [
      "(376, 17)\n",
      "(94, 17)\n"
     ]
    }
   ],
   "source": [
    "X_train, X_test, y_train, y_test = train_test_split(X,y,test_size=0.2, random_state=0)\n",
    "\n",
    "print(X_train.shape)\n",
    "print(X_test.shape)"
   ]
  },
  {
   "cell_type": "code",
   "execution_count": 7,
   "metadata": {},
   "outputs": [
    {
     "name": "stdout",
     "output_type": "stream",
     "text": [
      "Epoch 1/50\n",
      "376/376 [==============================] - 0s 1ms/step - loss: 12.0437 - acc: 0.1941\n",
      "Epoch 2/50\n",
      "376/376 [==============================] - 0s 218us/step - loss: 2.2111 - acc: 0.7287\n",
      "Epoch 3/50\n",
      "376/376 [==============================] - 0s 223us/step - loss: 0.7025 - acc: 0.7819\n",
      "Epoch 4/50\n",
      "376/376 [==============================] - 0s 225us/step - loss: 0.6163 - acc: 0.7793\n",
      "Epoch 5/50\n",
      "376/376 [==============================] - 0s 247us/step - loss: 0.5690 - acc: 0.7766\n",
      "Epoch 6/50\n",
      "376/376 [==============================] - 0s 252us/step - loss: 0.5028 - acc: 0.8112\n",
      "Epoch 7/50\n",
      "376/376 [==============================] - 0s 231us/step - loss: 0.5378 - acc: 0.7846\n",
      "Epoch 8/50\n",
      "376/376 [==============================] - 0s 244us/step - loss: 0.4820 - acc: 0.8218\n",
      "Epoch 9/50\n",
      "376/376 [==============================] - 0s 244us/step - loss: 0.5420 - acc: 0.7952\n",
      "Epoch 10/50\n",
      "376/376 [==============================] - 0s 225us/step - loss: 0.5257 - acc: 0.8059\n",
      "Epoch 11/50\n",
      "376/376 [==============================] - 0s 220us/step - loss: 0.5920 - acc: 0.8165\n",
      "Epoch 12/50\n",
      "376/376 [==============================] - 0s 236us/step - loss: 0.5054 - acc: 0.7979\n",
      "Epoch 13/50\n",
      "376/376 [==============================] - 0s 260us/step - loss: 0.4814 - acc: 0.8112\n",
      "Epoch 14/50\n",
      "376/376 [==============================] - 0s 236us/step - loss: 0.4677 - acc: 0.8245\n",
      "Epoch 15/50\n",
      "376/376 [==============================] - 0s 228us/step - loss: 0.4747 - acc: 0.8218\n",
      "Epoch 16/50\n",
      "376/376 [==============================] - 0s 231us/step - loss: 0.4916 - acc: 0.8191\n",
      "Epoch 17/50\n",
      "376/376 [==============================] - 0s 239us/step - loss: 0.4720 - acc: 0.8271\n",
      "Epoch 18/50\n",
      "376/376 [==============================] - 0s 228us/step - loss: 0.4875 - acc: 0.8191\n",
      "Epoch 19/50\n",
      "376/376 [==============================] - 0s 225us/step - loss: 0.4902 - acc: 0.8165\n",
      "Epoch 20/50\n",
      "376/376 [==============================] - 0s 233us/step - loss: 0.4546 - acc: 0.8191\n",
      "Epoch 21/50\n",
      "376/376 [==============================] - 0s 228us/step - loss: 0.4827 - acc: 0.8138\n",
      "Epoch 22/50\n",
      "376/376 [==============================] - 0s 233us/step - loss: 0.4673 - acc: 0.8218\n",
      "Epoch 23/50\n",
      "376/376 [==============================] - 0s 231us/step - loss: 0.4874 - acc: 0.8218\n",
      "Epoch 24/50\n",
      "376/376 [==============================] - 0s 228us/step - loss: 0.4427 - acc: 0.8138\n",
      "Epoch 25/50\n",
      "376/376 [==============================] - 0s 231us/step - loss: 0.4637 - acc: 0.8245\n",
      "Epoch 26/50\n",
      "376/376 [==============================] - 0s 220us/step - loss: 0.4787 - acc: 0.8112\n",
      "Epoch 27/50\n",
      "376/376 [==============================] - 0s 236us/step - loss: 0.4491 - acc: 0.8298\n",
      "Epoch 28/50\n",
      "376/376 [==============================] - 0s 239us/step - loss: 0.4598 - acc: 0.8324\n",
      "Epoch 29/50\n",
      "376/376 [==============================] - 0s 228us/step - loss: 0.5048 - acc: 0.8005\n",
      "Epoch 30/50\n",
      "376/376 [==============================] - 0s 239us/step - loss: 0.4536 - acc: 0.8165\n",
      "Epoch 31/50\n",
      "376/376 [==============================] - 0s 255us/step - loss: 0.4427 - acc: 0.8218\n",
      "Epoch 32/50\n",
      "376/376 [==============================] - 0s 244us/step - loss: 0.4524 - acc: 0.8218\n",
      "Epoch 33/50\n",
      "376/376 [==============================] - 0s 236us/step - loss: 0.4642 - acc: 0.8218\n",
      "Epoch 34/50\n",
      "376/376 [==============================] - 0s 236us/step - loss: 0.4808 - acc: 0.8165\n",
      "Epoch 35/50\n",
      "376/376 [==============================] - 0s 233us/step - loss: 0.4845 - acc: 0.8112\n",
      "Epoch 36/50\n",
      "376/376 [==============================] - 0s 228us/step - loss: 0.4621 - acc: 0.8218\n",
      "Epoch 37/50\n",
      "376/376 [==============================] - 0s 239us/step - loss: 0.4430 - acc: 0.8298\n",
      "Epoch 38/50\n",
      "376/376 [==============================] - 0s 233us/step - loss: 0.4844 - acc: 0.7979\n",
      "Epoch 39/50\n",
      "376/376 [==============================] - 0s 233us/step - loss: 0.4993 - acc: 0.8191\n",
      "Epoch 40/50\n",
      "376/376 [==============================] - 0s 252us/step - loss: 0.4518 - acc: 0.8245\n",
      "Epoch 41/50\n",
      "376/376 [==============================] - 0s 257us/step - loss: 0.4417 - acc: 0.8112\n",
      "Epoch 42/50\n",
      "376/376 [==============================] - 0s 249us/step - loss: 0.4732 - acc: 0.8112\n",
      "Epoch 43/50\n",
      "376/376 [==============================] - 0s 236us/step - loss: 0.4585 - acc: 0.8112\n",
      "Epoch 44/50\n",
      "376/376 [==============================] - 0s 236us/step - loss: 0.4512 - acc: 0.8191\n",
      "Epoch 45/50\n",
      "376/376 [==============================] - 0s 241us/step - loss: 0.4683 - acc: 0.8298\n",
      "Epoch 46/50\n",
      "376/376 [==============================] - 0s 252us/step - loss: 0.4993 - acc: 0.8032\n",
      "Epoch 47/50\n",
      "376/376 [==============================] - 0s 241us/step - loss: 0.4650 - acc: 0.8245\n",
      "Epoch 48/50\n",
      "376/376 [==============================] - 0s 236us/step - loss: 0.4536 - acc: 0.8165\n",
      "Epoch 49/50\n",
      "376/376 [==============================] - 0s 231us/step - loss: 0.4325 - acc: 0.8271\n",
      "Epoch 50/50\n",
      "376/376 [==============================] - 0s 236us/step - loss: 0.4377 - acc: 0.8378\n"
     ]
    }
   ],
   "source": [
    "with K.tf_ops.device('/device:GPU:0'):\n",
    "    model = Sequential()\n",
    "    model.add(Dense(30, input_dim=X_train.shape[1], activation='relu'))\n",
    "    model.add(Dense(1, activation='sigmoid'))\n",
    "    model.compile(loss=\"binary_crossentropy\", optimizer=\"adam\", metrics=[\"accuracy\"])\n",
    "    model.fit(X_train, y_train, epochs=50, batch_size=10)"
   ]
  },
  {
   "cell_type": "code",
   "execution_count": 10,
   "metadata": {},
   "outputs": [
    {
     "name": "stdout",
     "output_type": "stream",
     "text": [
      "94/94 [==============================] - 0s 31us/step\n",
      "정확도 : 0.9574\n"
     ]
    }
   ],
   "source": [
    "print(\"정확도 : %.4f\" % (model.evaluate(X_test, y_test)[1]) )"
   ]
  },
  {
   "attachments": {
    "image.png": {
     "image/png": "[encoded data removed]"
    }
   },
   "cell_type": "markdown",
   "metadata": {},
   "source": [
    "물론 제대로 된 모델은 아니다. 하지만 이렇게 학습을 시킬 수 있다는 것!\n",
    "\n",
    "정확도가 1에 가까우면 100%라는 뜻. 이렇게 단 몇줄의 코드로 폐암 환자의 수술후 생존 여부를 예측할 수 있다.\n",
    "\n",
    "여기서 보셔야 할 것은 데이터인데\n",
    "\n",
    "17번째까지는 **속성(attribute)** 그리고 마지막 18번째는 **클래스(class) 혹은 라벨**이라고도 불리운다.\n",
    "\n",
    "속성은 클래스의 결과가 나오기까지의 취급된 데이터다. 고통 정도, 기침, 흡연, 폐활량 등이다.\n",
    "\n",
    "딥러닝에서 가장 아래에 동작되는 방식은 선형 회귀와 로지스틱 회귀다.\n",
    "\n",
    "선형 회귀라는 것은 무엇일까?\n",
    "\n",
    "위키백과를 보면 종속 변수 y와 한개 이상의 독립변수 x와의 선형 관계를 모델링하는 회귀분석 기법을 말한다.\n",
    "\n",
    "![image.png](attachment:image.png)\n",
    "\n",
    "이런 그림과 같다."
   ]
  },
  {
   "cell_type": "code",
   "execution_count": null,
   "metadata": {},
   "outputs": [],
   "source": []
  }
 ],
 "metadata": {
  "kernelspec": {
   "display_name": "Python 3",
   "language": "python",
   "name": "python3"
  },
  "language_info": {
   "codemirror_mode": {
    "name": "ipython",
    "version": 3
   },
   "file_extension": ".py",
   "mimetype": "text/x-python",
   "name": "python",
   "nbconvert_exporter": "python",
   "pygments_lexer": "ipython3",
   "version": "3.6.5"
  }
 },
 "nbformat": 4,
 "nbformat_minor": 2
}
